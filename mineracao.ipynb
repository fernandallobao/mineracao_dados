{
 "cells": [
  {
   "cell_type": "markdown",
   "metadata": {},
   "source": [
    "# **Analise de cancelamentos de planos**\n",
    "---\n",
    "\n",
    "Neste *jupyter notebook*, vamos analisar as taxas de cancelamentos dos planos da **Umbrella Corporation**, e a partit dessa analise, tentar decobrir os motibos que levaram a uma taxa de cancelamentos e reverter a situação no processamento.\n",
    "\n",
    "## Passo 1: instalar o Pandas\n",
    "---\n",
    "\n",
    "A primeira coisa a se fazer é abrir o *dataset* no *notebook*. Para isso, iremos fazer o uso de uma biblioteca do ***Python*** usada para análise de dados chamada **Pandas**.\n",
    "\n",
    "1. Baixe o *dataset* no tema **Materiais**, que se encontra no site do ***Google Classroom*** na pasta raiz do projeto.\n",
    "\n",
    "2. Em seguida, crie um ambiente virtual do PY na raiz do projeto(`.venv`).\n",
    "\n",
    "3. Após a criação do `.venv`, instale a biblioteca **Pandas** no ambiente virtual usando  **CLI** atraves do seguinte comando: `pip install pandas`. Nao se esqueça de ativasr o ambiente virtual no **kernel** do *notebook* no canto superior direito, em **Selecione Kernel > Python > .venv recomendao**.\n",
    "---\n",
    "\n",
    "## **Passo 2**: abrir o *database*\n",
    "\n",
    "Com o **Pandas** instalado no ambiente virtual do nosso projeto, agora vamos abrir o ***dataset***. Para isso, vamos criar uma **nova célula de código** logo após essa célula de *markdown*, digitamos o código-fonte para abrir os dados do *data base* no *notebook*. O código-fonte está logo abaixo:"
   ]
  },
  {
   "cell_type": "code",
   "execution_count": null,
   "metadata": {},
   "outputs": [],
   "source": [
    "import pandas as pd\n",
    "\n",
    "#Lê os dados do dataser\n",
    "tabela = pd.read_csv('cancelamentos.csv')\n",
    "\n",
    "#mostra os dados da tabela\n",
    "display(tabela)"
   ]
  },
  {
   "cell_type": "markdown",
   "metadata": {},
   "source": [
    "O comando `display()` permite a exibição dos dodos como se fosse uma tabela.\n",
    "\n",
    "Só que agora que finalmente temos os dados armazenados na variavel `tabela`, precisamos filtrar esse dados. Vamos refazer a consulta, mas desta vez iremos retirar a coluna ID, ja que ela é inútil para a nossa analise de dados.\n",
    "\n",
    "A seguir, vamos acrescentar outra célula de código para realizar a filtragem de dados:"
   ]
  },
  {
   "cell_type": "code",
   "execution_count": null,
   "metadata": {},
   "outputs": [],
   "source": [
    "#exibe novamente os dados, eliminando a coluna ID\n",
    "tabela = tabela.drop('CustomerID', axis=1) #primeiro parâmentro é o nome da coluna(CustomerID). axis recebe a linha cabeçalho.\n",
    "display(tabela)"
   ]
  },
  {
   "cell_type": "markdown",
   "metadata": {},
   "source": [
    "## **Passo 3**: Tratamento de dados\n",
    "---\n",
    "\n",
    "### **Não é fetiçaria é tecnologia**\n",
    "\n",
    "Graças ao **PY**, agora temos uma poderosa ferramenta para análise de dados e muito mais perfeita que muita ferramenta famosa como o Excel.\n",
    "\n",
    "Na nossa planilha, temos muitas linhas e algumas delas estão com dados vazios, mas não sabemoquais e quantas são. Portanto, vamso exibir as informações da planilha para verificar quais linhas possuem daos e quantas estão vazias."
   ]
  },
  {
   "cell_type": "code",
   "execution_count": null,
   "metadata": {},
   "outputs": [],
   "source": [
    "#verificando as linhas que estão preenchidas\n",
    "display(tabela.info())\n",
    "\n",
    "# <class 'pandas.core.frame.DataFrame'>\n",
    "# RangeIndex: 881666 entries, 0 to 881665\n",
    "# Data columns (total 11 columns):\n",
    "#  #   Column                  Non-Null Count   Dtype  \n",
    "# ---  ------                  --------------   -----  \n",
    "#  0   idade                   881664 non-null  float64 quantidades de linhas que tem essa célula preenchida\n",
    "#  1   sexo                    881664 non-null  object \n",
    "#  2   tempo_como_cliente      881663 non-null  float64\n",
    "#  3   frequencia_uso          881663 non-null  float64\n",
    "#  4   ligacoes_callcenter     881664 non-null  float64\n",
    "#  5   dias_atraso             881664 non-null  float64\n",
    "#  6   assinatura              881661 non-null  object \n",
    "#  7   duracao_contrato        881663 non-null  object \n",
    "#  8   total_gasto             881664 non-null  float64\n",
    "#  9   meses_ultima_interacao  881664 non-null  float64\n",
    "#  10  cancelou                881664 non-null  float64\n",
    "# dtypes: float64(8), object(3)\n",
    "# memory usage: 74.0+ MB\n"
   ]
  },
  {
   "cell_type": "markdown",
   "metadata": {},
   "source": [
    "Os números de linhas para cada coluna não batem, o que indica que existem células não preenchidas poluindo nossa analise de dados. Precisamos elimina-los. Segue a célula de código abaixo."
   ]
  },
  {
   "cell_type": "code",
   "execution_count": null,
   "metadata": {},
   "outputs": [],
   "source": [
    "tabela = tabela.dropna() #ignora as linhas com células nulas\n",
    "display(tabela.info())\n",
    "\n",
    "# <class 'pandas.core.frame.DataFrame'>\n",
    "# Index: 881659 entries, 0 to 881665\n",
    "# Data columns (total 11 columns):\n",
    "#  #   Column                  Non-Null Count   Dtype  \n",
    "# ---  ------                  --------------   -----  \n",
    "#  0   idade                   881659 non-null  float64  pegou so as linhas que estavam com todos os dados completos.\n",
    "#  1   sexo                    881659 non-null  object \n",
    "#  2   tempo_como_cliente      881659 non-null  float64\n",
    "#  3   frequencia_uso          881659 non-null  float64\n",
    "#  4   ligacoes_callcenter     881659 non-null  float64\n",
    "#  5   dias_atraso             881659 non-null  float64\n",
    "#  6   assinatura              881659 non-null  object \n",
    "#  7   duracao_contrato        881659 non-null  object \n",
    "#  8   total_gasto             881659 non-null  float64\n",
    "#  9   meses_ultima_interacao  881659 non-null  float64\n",
    "#  10  cancelou                881659 non-null  float64\n",
    "# dtypes: float64(8), object(3)\n",
    "# memory usage: 80.7+ MB"
   ]
  },
  {
   "cell_type": "markdown",
   "metadata": {},
   "source": [
    "## **Passo 4**: Analise do dodos\n",
    "\n",
    "Agora que os dados foram tratados, podemos iniciar a *Analise de dados* propriamente dita. Que tal começarmos vom a *Taxa de cancelamento da empres?** Afinal de contas, esse é o nosso objetivo: diminuir a taxa de cncelamentos.\n",
    "\n",
    "Vamos pegar a coluna de taca de cancelamentos e exibir."
   ]
  },
  {
   "cell_type": "code",
   "execution_count": null,
   "metadata": {},
   "outputs": [],
   "source": [
    "#mostra os cancelamentos\n",
    "display(tabela['cancelou'].value_counts()) \n",
    "# value_counts() faz a contagem dos valores da coluna cancelou\n"
   ]
  },
  {
   "cell_type": "markdown",
   "metadata": {},
   "source": [
    "Repare que o numero de cancelamentos é maior que o de não cancelamentos. O que significa que algo de errado não esta certo, mas quanto de cancelamentos está acima do de não cancelados, vamos refazer as análises."
   ]
  },
  {
   "cell_type": "code",
   "execution_count": null,
   "metadata": {},
   "outputs": [],
   "source": [
    "#Mostando os dados em porcentagem\n",
    "display(tabela['cancelou'].value_counts(normalize=True).map('{:.2%}'.format))\n",
    "#normalize fazer uma normalização da contagem\n",
    "#map transforma em porcentagem"
   ]
  },
  {
   "cell_type": "markdown",
   "metadata": {},
   "source": [
    "Agora sabemos que **56.71** dos clientes cancelaram seus contratos. Um numero excessivamente alto, levando em consideração que mais da metade dos cliente foram perdidos. Agora precisamos imvestigar o porque de tantos cacelamentos.\n",
    "\n",
    "**IMPORTANTE**: Na parte de analise de dados, não temos a informação correta de imediato. Isso leva um tempo para entender o que acontece com os dados. Entao é possivel que em alguns casos demore mais que outros a analise dos dados.\n",
    "---\n",
    "## **Passo 5**: Investigação do problema\n",
    "\n",
    "- Começamos pela duração dos contratos. Veremos que existem 3 tipos de contatos: anual, trimestral e mensal. Vejamos a duração média de cada tipo de contrato."
   ]
  },
  {
   "cell_type": "code",
   "execution_count": null,
   "metadata": {},
   "outputs": [],
   "source": [
    "#numeros brutos\n",
    "display(tabela['duracao_contrato'].value_counts())\n",
    "\n",
    "#porcentagem\n",
    "display(tabela['duracao_contrato'].value_counts(normalize=True).map('{:.2%}'.format))"
   ]
  },
  {
   "cell_type": "markdown",
   "metadata": {},
   "source": [
    "A partir dessa analise, verificamos que a minoria dos cancelamentos possuem o tipo de contrato como mensal. Vamos analaisar a taxa de cancelamento por tipo de contrato."
   ]
  },
  {
   "cell_type": "code",
   "execution_count": null,
   "metadata": {},
   "outputs": [],
   "source": [
    "display(tabela.groupby('duracao_contrato').mean(numeric_only=True))\n",
    "#mean pega apenas os valores numericos"
   ]
  },
  {
   "cell_type": "markdown",
   "metadata": {},
   "source": [
    "Podemos obsevar algo entrano na coluna **cancelou**. Vamos verificar a porcentagem de cancelamento de cada tipo de contrato."
   ]
  },
  {
   "cell_type": "code",
   "execution_count": null,
   "metadata": {},
   "outputs": [],
   "source": [
    "tb_cancelar = tabela.groupby('duracao_contrato').mean(numeric_only=True)\n",
    "display(tb_cancelar['cancelou'].map('{:.2%}'.format))"
   ]
  },
  {
   "cell_type": "markdown",
   "metadata": {},
   "source": [
    "Conforme análise , descobrimos que os clientes que possuem o contrato do tipo mensal, possuem uma taxa da cancelamento de 100%. Desta forma, vamos reanalizar o dataset. Desta forma, vamos reanalizar o dataset sem os contratos mensais."
   ]
  },
  {
   "cell_type": "code",
   "execution_count": null,
   "metadata": {},
   "outputs": [],
   "source": [
    "tabela = tabela[tabela['duracao_contrato'] != 'Monthly'] #novo valor tabela eliminando os contratos mensais\n",
    "display(tabela) #exibe a tabela atualizada\n",
    "display(tabela['cancelou'].value_counts()) #numeros brutos dos cancelamentos\n",
    "display(tabela['cancelou'].value_counts(normalize=True).map('{:.2%}'.format)) #mostra os numeros de cancelamentos em porcentagem\n"
   ]
  },
  {
   "cell_type": "markdown",
   "metadata": {},
   "source": [
    "Verificamos que a taxa de cancelament diminuiu par **46%**. É uma diminuição de 10%, mas a taxa de cancelamentos ainda está muito alta, pois é ause 50%, mesmo com a eliminação dos contratos mensais.\n",
    "\n",
    "Nas análizes anteriores verificamos que há uma alta taxa de cancelamento associada a clientes que atrasam o pagamento. Agora vamos analizar esses clientes.\n",
    "\n",
    "## Gráficos\n",
    "---"
   ]
  },
  {
   "cell_type": "markdown",
   "metadata": {},
   "source": [
    "Uma das melhores formas de fazer esse tipo de análise é atravez de *gráficos*, já que estes facilitam a vizualização dos resultados para obter as informções necessárias.\n",
    "\n",
    "Para esta ação iremos utilizar a biblioteca **plotly.express** para gerar os gráficos. A instalção é realizada através do comando `pip install plotly` no CLI.\n",
    "\n",
    "Utilizando o *plotly* criamos um historiograma com cada uma das colunas. Assim podemos analizar cada uma das colunas e verificar como elas se comportam em relação aos cancelamentos da empresa. \n",
    "\n",
    "**OBS:** caso o código para exibir os gráficos retorne erro, instale uma biblioteca adicional: `pip install nbformat`. Se mesmo assim não gerar o gráfico e continuar dando erro, feche o VScode e reinicie o programa executando todas em células no botao *executar Tudo* "
   ]
  },
  {
   "cell_type": "code",
   "execution_count": null,
   "metadata": {},
   "outputs": [],
   "source": [
    "import plotly.express as px\n",
    "\n",
    "for coluna in tabela.columns:\n",
    "    grafico = px.histogram(tabela, y=coluna, color='cancelou', width=600)\n",
    "    grafico.show()"
   ]
  },
  {
   "cell_type": "markdown",
   "metadata": {},
   "source": [
    "Após análise dos gráficos, foi possivel verificar qua a quantidade de cancelamentos de plano de clientes que atrasaram o pagamento é maior do que a de quem nãi atrasou o pagamento.\n",
    "\n",
    "Também foi possivel verificar que a taxa de cancelamento está diretamente ligada ao número de ligações ao call center.\n",
    "\n",
    "**Solução:** melhorar o setor de call center.\n",
    "\n",
    "Analisando os gráficos de ligações para o call center e dos atrasos de pagamento, conseguimos chegar a rais do problema *os cliente que fizeram mais de 5 ligções para o call center cancelaram seus planos. Para finalizar vamos refazer a aálise do dataset, re-exibindo os daods, desta vem sem os planos mensais e sem as ligações para o call center que excederam 5 tentativas, tambem vamos eliminar os clientes que passaram mais tempo sem pagar as suas assinatuas."
   ]
  },
  {
   "cell_type": "code",
   "execution_count": 26,
   "metadata": {},
   "outputs": [
    {
     "data": {
      "text/html": [
       "<div>\n",
       "<style scoped>\n",
       "    .dataframe tbody tr th:only-of-type {\n",
       "        vertical-align: middle;\n",
       "    }\n",
       "\n",
       "    .dataframe tbody tr th {\n",
       "        vertical-align: top;\n",
       "    }\n",
       "\n",
       "    .dataframe thead th {\n",
       "        text-align: right;\n",
       "    }\n",
       "</style>\n",
       "<table border=\"1\" class=\"dataframe\">\n",
       "  <thead>\n",
       "    <tr style=\"text-align: right;\">\n",
       "      <th></th>\n",
       "      <th>idade</th>\n",
       "      <th>sexo</th>\n",
       "      <th>tempo_como_cliente</th>\n",
       "      <th>frequencia_uso</th>\n",
       "      <th>ligacoes_callcenter</th>\n",
       "      <th>dias_atraso</th>\n",
       "      <th>assinatura</th>\n",
       "      <th>duracao_contrato</th>\n",
       "      <th>total_gasto</th>\n",
       "      <th>meses_ultima_interacao</th>\n",
       "      <th>cancelou</th>\n",
       "    </tr>\n",
       "  </thead>\n",
       "  <tbody>\n",
       "    <tr>\n",
       "      <th>6</th>\n",
       "      <td>58.0</td>\n",
       "      <td>Female</td>\n",
       "      <td>49.0</td>\n",
       "      <td>12.0</td>\n",
       "      <td>3.0</td>\n",
       "      <td>16.0</td>\n",
       "      <td>Standard</td>\n",
       "      <td>Quarterly</td>\n",
       "      <td>821.00</td>\n",
       "      <td>24.0</td>\n",
       "      <td>1.0</td>\n",
       "    </tr>\n",
       "    <tr>\n",
       "      <th>7</th>\n",
       "      <td>55.0</td>\n",
       "      <td>Female</td>\n",
       "      <td>37.0</td>\n",
       "      <td>8.0</td>\n",
       "      <td>4.0</td>\n",
       "      <td>15.0</td>\n",
       "      <td>Premium</td>\n",
       "      <td>Annual</td>\n",
       "      <td>445.00</td>\n",
       "      <td>30.0</td>\n",
       "      <td>1.0</td>\n",
       "    </tr>\n",
       "    <tr>\n",
       "      <th>9</th>\n",
       "      <td>64.0</td>\n",
       "      <td>Female</td>\n",
       "      <td>3.0</td>\n",
       "      <td>25.0</td>\n",
       "      <td>2.0</td>\n",
       "      <td>11.0</td>\n",
       "      <td>Standard</td>\n",
       "      <td>Quarterly</td>\n",
       "      <td>415.00</td>\n",
       "      <td>29.0</td>\n",
       "      <td>1.0</td>\n",
       "    </tr>\n",
       "    <tr>\n",
       "      <th>13</th>\n",
       "      <td>48.0</td>\n",
       "      <td>Female</td>\n",
       "      <td>35.0</td>\n",
       "      <td>25.0</td>\n",
       "      <td>1.0</td>\n",
       "      <td>13.0</td>\n",
       "      <td>Basic</td>\n",
       "      <td>Annual</td>\n",
       "      <td>518.00</td>\n",
       "      <td>17.0</td>\n",
       "      <td>1.0</td>\n",
       "    </tr>\n",
       "    <tr>\n",
       "      <th>19</th>\n",
       "      <td>42.0</td>\n",
       "      <td>Male</td>\n",
       "      <td>15.0</td>\n",
       "      <td>16.0</td>\n",
       "      <td>2.0</td>\n",
       "      <td>14.0</td>\n",
       "      <td>Premium</td>\n",
       "      <td>Quarterly</td>\n",
       "      <td>262.00</td>\n",
       "      <td>16.0</td>\n",
       "      <td>1.0</td>\n",
       "    </tr>\n",
       "    <tr>\n",
       "      <th>...</th>\n",
       "      <td>...</td>\n",
       "      <td>...</td>\n",
       "      <td>...</td>\n",
       "      <td>...</td>\n",
       "      <td>...</td>\n",
       "      <td>...</td>\n",
       "      <td>...</td>\n",
       "      <td>...</td>\n",
       "      <td>...</td>\n",
       "      <td>...</td>\n",
       "      <td>...</td>\n",
       "    </tr>\n",
       "    <tr>\n",
       "      <th>881661</th>\n",
       "      <td>42.0</td>\n",
       "      <td>Male</td>\n",
       "      <td>54.0</td>\n",
       "      <td>15.0</td>\n",
       "      <td>1.0</td>\n",
       "      <td>3.0</td>\n",
       "      <td>Premium</td>\n",
       "      <td>Annual</td>\n",
       "      <td>716.38</td>\n",
       "      <td>8.0</td>\n",
       "      <td>0.0</td>\n",
       "    </tr>\n",
       "    <tr>\n",
       "      <th>881662</th>\n",
       "      <td>25.0</td>\n",
       "      <td>Female</td>\n",
       "      <td>8.0</td>\n",
       "      <td>13.0</td>\n",
       "      <td>1.0</td>\n",
       "      <td>20.0</td>\n",
       "      <td>Premium</td>\n",
       "      <td>Annual</td>\n",
       "      <td>745.38</td>\n",
       "      <td>2.0</td>\n",
       "      <td>0.0</td>\n",
       "    </tr>\n",
       "    <tr>\n",
       "      <th>881663</th>\n",
       "      <td>26.0</td>\n",
       "      <td>Male</td>\n",
       "      <td>35.0</td>\n",
       "      <td>27.0</td>\n",
       "      <td>1.0</td>\n",
       "      <td>5.0</td>\n",
       "      <td>Standard</td>\n",
       "      <td>Quarterly</td>\n",
       "      <td>977.31</td>\n",
       "      <td>9.0</td>\n",
       "      <td>0.0</td>\n",
       "    </tr>\n",
       "    <tr>\n",
       "      <th>881664</th>\n",
       "      <td>28.0</td>\n",
       "      <td>Male</td>\n",
       "      <td>55.0</td>\n",
       "      <td>14.0</td>\n",
       "      <td>2.0</td>\n",
       "      <td>0.0</td>\n",
       "      <td>Standard</td>\n",
       "      <td>Quarterly</td>\n",
       "      <td>602.55</td>\n",
       "      <td>2.0</td>\n",
       "      <td>0.0</td>\n",
       "    </tr>\n",
       "    <tr>\n",
       "      <th>881665</th>\n",
       "      <td>31.0</td>\n",
       "      <td>Male</td>\n",
       "      <td>48.0</td>\n",
       "      <td>20.0</td>\n",
       "      <td>1.0</td>\n",
       "      <td>14.0</td>\n",
       "      <td>Premium</td>\n",
       "      <td>Quarterly</td>\n",
       "      <td>567.77</td>\n",
       "      <td>21.0</td>\n",
       "      <td>0.0</td>\n",
       "    </tr>\n",
       "  </tbody>\n",
       "</table>\n",
       "<p>464479 rows × 11 columns</p>\n",
       "</div>"
      ],
      "text/plain": [
       "        idade    sexo  tempo_como_cliente  frequencia_uso  \\\n",
       "6        58.0  Female                49.0            12.0   \n",
       "7        55.0  Female                37.0             8.0   \n",
       "9        64.0  Female                 3.0            25.0   \n",
       "13       48.0  Female                35.0            25.0   \n",
       "19       42.0    Male                15.0            16.0   \n",
       "...       ...     ...                 ...             ...   \n",
       "881661   42.0    Male                54.0            15.0   \n",
       "881662   25.0  Female                 8.0            13.0   \n",
       "881663   26.0    Male                35.0            27.0   \n",
       "881664   28.0    Male                55.0            14.0   \n",
       "881665   31.0    Male                48.0            20.0   \n",
       "\n",
       "        ligacoes_callcenter  dias_atraso assinatura duracao_contrato  \\\n",
       "6                       3.0         16.0   Standard        Quarterly   \n",
       "7                       4.0         15.0    Premium           Annual   \n",
       "9                       2.0         11.0   Standard        Quarterly   \n",
       "13                      1.0         13.0      Basic           Annual   \n",
       "19                      2.0         14.0    Premium        Quarterly   \n",
       "...                     ...          ...        ...              ...   \n",
       "881661                  1.0          3.0    Premium           Annual   \n",
       "881662                  1.0         20.0    Premium           Annual   \n",
       "881663                  1.0          5.0   Standard        Quarterly   \n",
       "881664                  2.0          0.0   Standard        Quarterly   \n",
       "881665                  1.0         14.0    Premium        Quarterly   \n",
       "\n",
       "        total_gasto  meses_ultima_interacao  cancelou  \n",
       "6            821.00                    24.0       1.0  \n",
       "7            445.00                    30.0       1.0  \n",
       "9            415.00                    29.0       1.0  \n",
       "13           518.00                    17.0       1.0  \n",
       "19           262.00                    16.0       1.0  \n",
       "...             ...                     ...       ...  \n",
       "881661       716.38                     8.0       0.0  \n",
       "881662       745.38                     2.0       0.0  \n",
       "881663       977.31                     9.0       0.0  \n",
       "881664       602.55                     2.0       0.0  \n",
       "881665       567.77                    21.0       0.0  \n",
       "\n",
       "[464479 rows x 11 columns]"
      ]
     },
     "metadata": {},
     "output_type": "display_data"
    },
    {
     "data": {
      "text/plain": [
       "cancelou\n",
       "0.0    379032\n",
       "1.0     85447\n",
       "Name: count, dtype: int64"
      ]
     },
     "metadata": {},
     "output_type": "display_data"
    },
    {
     "data": {
      "text/plain": [
       "cancelou\n",
       "0.0    81.60%\n",
       "1.0    18.40%\n",
       "Name: proportion, dtype: object"
      ]
     },
     "metadata": {},
     "output_type": "display_data"
    }
   ],
   "source": [
    "tabela = tabela[tabela['ligacoes_callcenter'] < 5]\n",
    "tabela = tabela[tabela['dias_atraso'] <= 20]\n",
    "display(tabela)\n",
    "display(tabela['cancelou'].value_counts())\n",
    "display(tabela['cancelou'].value_counts(normalize=True).map('{:.2%}'.format))"
   ]
  }
 ],
 "metadata": {
  "kernelspec": {
   "display_name": ".venv",
   "language": "python",
   "name": "python3"
  },
  "language_info": {
   "codemirror_mode": {
    "name": "ipython",
    "version": 3
   },
   "file_extension": ".py",
   "mimetype": "text/x-python",
   "name": "python",
   "nbconvert_exporter": "python",
   "pygments_lexer": "ipython3",
   "version": "3.12.5"
  }
 },
 "nbformat": 4,
 "nbformat_minor": 2
}
